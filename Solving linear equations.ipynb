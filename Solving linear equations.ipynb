{
 "cells": [
  {
   "cell_type": "markdown",
   "id": "6aa2f076",
   "metadata": {},
   "source": [
    "1) Substitution method\n",
    "2) Gauss Jordan \n",
    "3) Elimintation method\n",
    "4) Gaussiam Elimination"
   ]
  },
  {
   "cell_type": "markdown",
   "id": "c2827a8b",
   "metadata": {},
   "source": [
    "Solution of system of linear equations using Substitution Method"
   ]
  },
  {
   "cell_type": "code",
   "execution_count": 1,
   "id": "dbe3ab72",
   "metadata": {},
   "outputs": [],
   "source": [
    "# Madhusmita Mukherjee 20BCE2783\n",
    "def solutionBySubstituion(arr1, arr2):\n",
    "    x1, y1, c1 = arr1[0], arr1[1], arr1[2]\n",
    "    x2, y2, c2 = arr2[0], arr2[1], arr2[2]\n",
    "    tempArr = []\n",
    "    tempArr.append(x1)\n",
    "    tempArr.append(-y1)\n",
    "    tempArr.append(c1)\n",
    "    resultY = ((tempArr[0]*c2) - (x2*tempArr[2])) / ((x2*tempArr[1]) + (tempArr[0]*y2)) \n",
    "    resultX = (c1 - (y1*resultY)) / x1 \n",
    "    print(\"x = \", resultX)\n",
    "    print(\"y = \", resultY)"
   ]
  },
  {
   "cell_type": "code",
   "execution_count": 2,
   "id": "8dfa6e49",
   "metadata": {},
   "outputs": [
    {
     "name": "stdout",
     "output_type": "stream",
     "text": [
      "x =  -0.09302325581395347\n",
      "y =  1.2325581395348837\n"
     ]
    }
   ],
   "source": [
    "# Unique Solution 5 x + 2y = 2; 4 x - 7 y = -9\n",
    "arr1 = [5, 2, 2]\n",
    "arr2 = [4, -7, -9]\n",
    "solutionBySubstituion(arr1, arr2)"
   ]
  },
  {
   "cell_type": "code",
   "execution_count": 3,
   "id": "a5bbb63a",
   "metadata": {},
   "outputs": [
    {
     "name": "stdout",
     "output_type": "stream",
     "text": [
      "x =  -2.0\n",
      "y =  5.0\n"
     ]
    }
   ],
   "source": [
    "# Unique Solution 3 x + y = -1; 2 x - 3 y = -19\n",
    "arr1 = [3, 1, -1]\n",
    "arr2 = [2, -3, -19]\n",
    "solutionBySubstituion(arr1, arr2)"
   ]
  },
  {
   "cell_type": "code",
   "execution_count": 4,
   "id": "315b19dd",
   "metadata": {},
   "outputs": [
    {
     "ename": "ZeroDivisionError",
     "evalue": "division by zero",
     "output_type": "error",
     "traceback": [
      "\u001b[1;31m---------------------------------------------------------------------------\u001b[0m",
      "\u001b[1;31mZeroDivisionError\u001b[0m                         Traceback (most recent call last)",
      "Cell \u001b[1;32mIn [4], line 4\u001b[0m\n\u001b[0;32m      2\u001b[0m arr1 \u001b[38;5;241m=\u001b[39m [\u001b[38;5;241m-\u001b[39m\u001b[38;5;241m4\u001b[39m, \u001b[38;5;241m10\u001b[39m, \u001b[38;5;241m6\u001b[39m]\n\u001b[0;32m      3\u001b[0m arr2 \u001b[38;5;241m=\u001b[39m [\u001b[38;5;241m2\u001b[39m, \u001b[38;5;241m-\u001b[39m\u001b[38;5;241m5\u001b[39m, \u001b[38;5;241m3\u001b[39m]\n\u001b[1;32m----> 4\u001b[0m \u001b[43msolutionBySubstituion\u001b[49m\u001b[43m(\u001b[49m\u001b[43marr1\u001b[49m\u001b[43m,\u001b[49m\u001b[43m \u001b[49m\u001b[43marr2\u001b[49m\u001b[43m)\u001b[49m\n",
      "Cell \u001b[1;32mIn [1], line 9\u001b[0m, in \u001b[0;36msolutionBySubstituion\u001b[1;34m(arr1, arr2)\u001b[0m\n\u001b[0;32m      7\u001b[0m tempArr\u001b[38;5;241m.\u001b[39mappend(\u001b[38;5;241m-\u001b[39my1)\n\u001b[0;32m      8\u001b[0m tempArr\u001b[38;5;241m.\u001b[39mappend(c1)\n\u001b[1;32m----> 9\u001b[0m resultY \u001b[38;5;241m=\u001b[39m \u001b[43m(\u001b[49m\u001b[43m(\u001b[49m\u001b[43mtempArr\u001b[49m\u001b[43m[\u001b[49m\u001b[38;5;241;43m0\u001b[39;49m\u001b[43m]\u001b[49m\u001b[38;5;241;43m*\u001b[39;49m\u001b[43mc2\u001b[49m\u001b[43m)\u001b[49m\u001b[43m \u001b[49m\u001b[38;5;241;43m-\u001b[39;49m\u001b[43m \u001b[49m\u001b[43m(\u001b[49m\u001b[43mx2\u001b[49m\u001b[38;5;241;43m*\u001b[39;49m\u001b[43mtempArr\u001b[49m\u001b[43m[\u001b[49m\u001b[38;5;241;43m2\u001b[39;49m\u001b[43m]\u001b[49m\u001b[43m)\u001b[49m\u001b[43m)\u001b[49m\u001b[43m \u001b[49m\u001b[38;5;241;43m/\u001b[39;49m\u001b[43m \u001b[49m\u001b[43m(\u001b[49m\u001b[43m(\u001b[49m\u001b[43mx2\u001b[49m\u001b[38;5;241;43m*\u001b[39;49m\u001b[43mtempArr\u001b[49m\u001b[43m[\u001b[49m\u001b[38;5;241;43m1\u001b[39;49m\u001b[43m]\u001b[49m\u001b[43m)\u001b[49m\u001b[43m \u001b[49m\u001b[38;5;241;43m+\u001b[39;49m\u001b[43m \u001b[49m\u001b[43m(\u001b[49m\u001b[43mtempArr\u001b[49m\u001b[43m[\u001b[49m\u001b[38;5;241;43m0\u001b[39;49m\u001b[43m]\u001b[49m\u001b[38;5;241;43m*\u001b[39;49m\u001b[43my2\u001b[49m\u001b[43m)\u001b[49m\u001b[43m)\u001b[49m \n\u001b[0;32m     10\u001b[0m resultX \u001b[38;5;241m=\u001b[39m (c1 \u001b[38;5;241m-\u001b[39m (y1\u001b[38;5;241m*\u001b[39mresultY)) \u001b[38;5;241m/\u001b[39m x1 \n\u001b[0;32m     11\u001b[0m \u001b[38;5;28mprint\u001b[39m(\u001b[38;5;124m\"\u001b[39m\u001b[38;5;124mx = \u001b[39m\u001b[38;5;124m\"\u001b[39m, resultX)\n",
      "\u001b[1;31mZeroDivisionError\u001b[0m: division by zero"
     ]
    }
   ],
   "source": [
    "# No Solution\n",
    "arr1 = [-4, 10, 6]\n",
    "arr2 = [2, -5, 3]\n",
    "solutionBySubstituion(arr1, arr2)"
   ]
  },
  {
   "cell_type": "code",
   "execution_count": 5,
   "id": "c8fd0bb3",
   "metadata": {},
   "outputs": [
    {
     "ename": "ZeroDivisionError",
     "evalue": "division by zero",
     "output_type": "error",
     "traceback": [
      "\u001b[1;31m---------------------------------------------------------------------------\u001b[0m",
      "\u001b[1;31mZeroDivisionError\u001b[0m                         Traceback (most recent call last)",
      "Cell \u001b[1;32mIn [5], line 4\u001b[0m\n\u001b[0;32m      2\u001b[0m arr1 \u001b[38;5;241m=\u001b[39m [\u001b[38;5;241m12\u001b[39m, \u001b[38;5;241m7\u001b[39m, \u001b[38;5;241m3\u001b[39m]\n\u001b[0;32m      3\u001b[0m arr2 \u001b[38;5;241m=\u001b[39m [\u001b[38;5;241m24\u001b[39m, \u001b[38;5;241m14\u001b[39m, \u001b[38;5;241m6\u001b[39m]\n\u001b[1;32m----> 4\u001b[0m \u001b[43msolutionBySubstituion\u001b[49m\u001b[43m(\u001b[49m\u001b[43marr1\u001b[49m\u001b[43m,\u001b[49m\u001b[43m \u001b[49m\u001b[43marr2\u001b[49m\u001b[43m)\u001b[49m\n",
      "Cell \u001b[1;32mIn [1], line 9\u001b[0m, in \u001b[0;36msolutionBySubstituion\u001b[1;34m(arr1, arr2)\u001b[0m\n\u001b[0;32m      7\u001b[0m tempArr\u001b[38;5;241m.\u001b[39mappend(\u001b[38;5;241m-\u001b[39my1)\n\u001b[0;32m      8\u001b[0m tempArr\u001b[38;5;241m.\u001b[39mappend(c1)\n\u001b[1;32m----> 9\u001b[0m resultY \u001b[38;5;241m=\u001b[39m \u001b[43m(\u001b[49m\u001b[43m(\u001b[49m\u001b[43mtempArr\u001b[49m\u001b[43m[\u001b[49m\u001b[38;5;241;43m0\u001b[39;49m\u001b[43m]\u001b[49m\u001b[38;5;241;43m*\u001b[39;49m\u001b[43mc2\u001b[49m\u001b[43m)\u001b[49m\u001b[43m \u001b[49m\u001b[38;5;241;43m-\u001b[39;49m\u001b[43m \u001b[49m\u001b[43m(\u001b[49m\u001b[43mx2\u001b[49m\u001b[38;5;241;43m*\u001b[39;49m\u001b[43mtempArr\u001b[49m\u001b[43m[\u001b[49m\u001b[38;5;241;43m2\u001b[39;49m\u001b[43m]\u001b[49m\u001b[43m)\u001b[49m\u001b[43m)\u001b[49m\u001b[43m \u001b[49m\u001b[38;5;241;43m/\u001b[39;49m\u001b[43m \u001b[49m\u001b[43m(\u001b[49m\u001b[43m(\u001b[49m\u001b[43mx2\u001b[49m\u001b[38;5;241;43m*\u001b[39;49m\u001b[43mtempArr\u001b[49m\u001b[43m[\u001b[49m\u001b[38;5;241;43m1\u001b[39;49m\u001b[43m]\u001b[49m\u001b[43m)\u001b[49m\u001b[43m \u001b[49m\u001b[38;5;241;43m+\u001b[39;49m\u001b[43m \u001b[49m\u001b[43m(\u001b[49m\u001b[43mtempArr\u001b[49m\u001b[43m[\u001b[49m\u001b[38;5;241;43m0\u001b[39;49m\u001b[43m]\u001b[49m\u001b[38;5;241;43m*\u001b[39;49m\u001b[43my2\u001b[49m\u001b[43m)\u001b[49m\u001b[43m)\u001b[49m \n\u001b[0;32m     10\u001b[0m resultX \u001b[38;5;241m=\u001b[39m (c1 \u001b[38;5;241m-\u001b[39m (y1\u001b[38;5;241m*\u001b[39mresultY)) \u001b[38;5;241m/\u001b[39m x1 \n\u001b[0;32m     11\u001b[0m \u001b[38;5;28mprint\u001b[39m(\u001b[38;5;124m\"\u001b[39m\u001b[38;5;124mx = \u001b[39m\u001b[38;5;124m\"\u001b[39m, resultX)\n",
      "\u001b[1;31mZeroDivisionError\u001b[0m: division by zero"
     ]
    }
   ],
   "source": [
    "# Infinitely Many solutions\n",
    "arr1 = [12, 7, 3]\n",
    "arr2 = [24, 14, 6]\n",
    "solutionBySubstituion(arr1, arr2)"
   ]
  },
  {
   "cell_type": "markdown",
   "id": "70d1ca19",
   "metadata": {},
   "source": [
    "Gauss Jordan Elimination"
   ]
  },
  {
   "cell_type": "code",
   "execution_count": 6,
   "id": "012bc893",
   "metadata": {},
   "outputs": [],
   "source": [
    "import numpy as np\n",
    "from numpy import linalg as lg\n",
    "m1 = np.array([[2,5],[3,6]])\n",
    "m2 = np.array([[20],[12]])\n",
    "m1_inverse = lg.inv(m1)\n",
    "soln = np.matmul(m1_inverse, m2)    # X = A^(-1) * B"
   ]
  },
  {
   "cell_type": "code",
   "execution_count": 7,
   "id": "bc8ed992",
   "metadata": {},
   "outputs": [
    {
     "data": {
      "text/plain": [
       "array([[-20.],\n",
       "       [ 12.]])"
      ]
     },
     "execution_count": 7,
     "metadata": {},
     "output_type": "execute_result"
    }
   ],
   "source": [
    "soln"
   ]
  },
  {
   "cell_type": "code",
   "execution_count": 8,
   "id": "d26170b0",
   "metadata": {},
   "outputs": [
    {
     "ename": "LinAlgError",
     "evalue": "Singular matrix",
     "output_type": "error",
     "traceback": [
      "\u001b[1;31m---------------------------------------------------------------------------\u001b[0m",
      "\u001b[1;31mLinAlgError\u001b[0m                               Traceback (most recent call last)",
      "Cell \u001b[1;32mIn [8], line 5\u001b[0m\n\u001b[0;32m      3\u001b[0m m1 \u001b[38;5;241m=\u001b[39m np\u001b[38;5;241m.\u001b[39marray([[\u001b[38;5;241m2\u001b[39m,\u001b[38;5;241m3\u001b[39m],[\u001b[38;5;241m4\u001b[39m,\u001b[38;5;241m6\u001b[39m]])\n\u001b[0;32m      4\u001b[0m m2 \u001b[38;5;241m=\u001b[39m np\u001b[38;5;241m.\u001b[39marray([[\u001b[38;5;241m6\u001b[39m],[\u001b[38;5;241m5\u001b[39m]])\n\u001b[1;32m----> 5\u001b[0m m1_inverse \u001b[38;5;241m=\u001b[39m \u001b[43mlg\u001b[49m\u001b[38;5;241;43m.\u001b[39;49m\u001b[43minv\u001b[49m\u001b[43m(\u001b[49m\u001b[43mm1\u001b[49m\u001b[43m)\u001b[49m\n\u001b[0;32m      6\u001b[0m soln \u001b[38;5;241m=\u001b[39m np\u001b[38;5;241m.\u001b[39mmatmul(m1_inverse, m2)\n",
      "File \u001b[1;32m<__array_function__ internals>:5\u001b[0m, in \u001b[0;36minv\u001b[1;34m(*args, **kwargs)\u001b[0m\n",
      "File \u001b[1;32m~\\anaconda3\\lib\\site-packages\\numpy\\linalg\\linalg.py:545\u001b[0m, in \u001b[0;36minv\u001b[1;34m(a)\u001b[0m\n\u001b[0;32m    543\u001b[0m signature \u001b[38;5;241m=\u001b[39m \u001b[38;5;124m'\u001b[39m\u001b[38;5;124mD->D\u001b[39m\u001b[38;5;124m'\u001b[39m \u001b[38;5;28;01mif\u001b[39;00m isComplexType(t) \u001b[38;5;28;01melse\u001b[39;00m \u001b[38;5;124m'\u001b[39m\u001b[38;5;124md->d\u001b[39m\u001b[38;5;124m'\u001b[39m\n\u001b[0;32m    544\u001b[0m extobj \u001b[38;5;241m=\u001b[39m get_linalg_error_extobj(_raise_linalgerror_singular)\n\u001b[1;32m--> 545\u001b[0m ainv \u001b[38;5;241m=\u001b[39m \u001b[43m_umath_linalg\u001b[49m\u001b[38;5;241;43m.\u001b[39;49m\u001b[43minv\u001b[49m\u001b[43m(\u001b[49m\u001b[43ma\u001b[49m\u001b[43m,\u001b[49m\u001b[43m \u001b[49m\u001b[43msignature\u001b[49m\u001b[38;5;241;43m=\u001b[39;49m\u001b[43msignature\u001b[49m\u001b[43m,\u001b[49m\u001b[43m \u001b[49m\u001b[43mextobj\u001b[49m\u001b[38;5;241;43m=\u001b[39;49m\u001b[43mextobj\u001b[49m\u001b[43m)\u001b[49m\n\u001b[0;32m    546\u001b[0m \u001b[38;5;28;01mreturn\u001b[39;00m wrap(ainv\u001b[38;5;241m.\u001b[39mastype(result_t, copy\u001b[38;5;241m=\u001b[39m\u001b[38;5;28;01mFalse\u001b[39;00m))\n",
      "File \u001b[1;32m~\\anaconda3\\lib\\site-packages\\numpy\\linalg\\linalg.py:88\u001b[0m, in \u001b[0;36m_raise_linalgerror_singular\u001b[1;34m(err, flag)\u001b[0m\n\u001b[0;32m     87\u001b[0m \u001b[38;5;28;01mdef\u001b[39;00m \u001b[38;5;21m_raise_linalgerror_singular\u001b[39m(err, flag):\n\u001b[1;32m---> 88\u001b[0m     \u001b[38;5;28;01mraise\u001b[39;00m LinAlgError(\u001b[38;5;124m\"\u001b[39m\u001b[38;5;124mSingular matrix\u001b[39m\u001b[38;5;124m\"\u001b[39m)\n",
      "\u001b[1;31mLinAlgError\u001b[0m: Singular matrix"
     ]
    }
   ],
   "source": [
    "import numpy as np\n",
    "from numpy import linalg as lg\n",
    "m1 = np.array([[2,3],[4,6]])\n",
    "m2 = np.array([[6],[5]])\n",
    "m1_inverse = lg.inv(m1)\n",
    "soln = np.matmul(m1_inverse, m2)    # X = A^(-1) * B"
   ]
  },
  {
   "cell_type": "markdown",
   "id": "2a89987e",
   "metadata": {},
   "source": [
    "Elimination Method"
   ]
  },
  {
   "cell_type": "code",
   "execution_count": 9,
   "id": "d8e66190",
   "metadata": {},
   "outputs": [],
   "source": [
    "# Unique Solution\n",
    "arr1 = np.array([[2,3],[4,2]])  \n",
    "arr2 = np.array([3,9])      "
   ]
  },
  {
   "cell_type": "code",
   "execution_count": 10,
   "id": "1d8d9533",
   "metadata": {},
   "outputs": [
    {
     "data": {
      "text/plain": [
       "array([ 2.625, -0.75 ])"
      ]
     },
     "execution_count": 10,
     "metadata": {},
     "output_type": "execute_result"
    }
   ],
   "source": [
    "ans = lg.solve(arr1, arr2)\n",
    "ans"
   ]
  },
  {
   "cell_type": "code",
   "execution_count": 11,
   "id": "bf321700",
   "metadata": {},
   "outputs": [
    {
     "ename": "LinAlgError",
     "evalue": "Singular matrix",
     "output_type": "error",
     "traceback": [
      "\u001b[1;31m---------------------------------------------------------------------------\u001b[0m",
      "\u001b[1;31mLinAlgError\u001b[0m                               Traceback (most recent call last)",
      "Cell \u001b[1;32mIn [11], line 4\u001b[0m\n\u001b[0;32m      2\u001b[0m arr1 \u001b[38;5;241m=\u001b[39m np\u001b[38;5;241m.\u001b[39marray([[\u001b[38;5;241m-\u001b[39m\u001b[38;5;241m3\u001b[39m,\u001b[38;5;241m4\u001b[39m],[\u001b[38;5;241m6\u001b[39m,\u001b[38;5;241m-\u001b[39m\u001b[38;5;241m8\u001b[39m]])  \n\u001b[0;32m      3\u001b[0m arr2 \u001b[38;5;241m=\u001b[39m np\u001b[38;5;241m.\u001b[39marray([\u001b[38;5;241m3\u001b[39m,\u001b[38;5;241m6\u001b[39m])   \n\u001b[1;32m----> 4\u001b[0m ans \u001b[38;5;241m=\u001b[39m \u001b[43mlg\u001b[49m\u001b[38;5;241;43m.\u001b[39;49m\u001b[43msolve\u001b[49m\u001b[43m(\u001b[49m\u001b[43marr1\u001b[49m\u001b[43m,\u001b[49m\u001b[43m \u001b[49m\u001b[43marr2\u001b[49m\u001b[43m)\u001b[49m\n\u001b[0;32m      5\u001b[0m ans\n",
      "File \u001b[1;32m<__array_function__ internals>:5\u001b[0m, in \u001b[0;36msolve\u001b[1;34m(*args, **kwargs)\u001b[0m\n",
      "File \u001b[1;32m~\\anaconda3\\lib\\site-packages\\numpy\\linalg\\linalg.py:393\u001b[0m, in \u001b[0;36msolve\u001b[1;34m(a, b)\u001b[0m\n\u001b[0;32m    391\u001b[0m signature \u001b[38;5;241m=\u001b[39m \u001b[38;5;124m'\u001b[39m\u001b[38;5;124mDD->D\u001b[39m\u001b[38;5;124m'\u001b[39m \u001b[38;5;28;01mif\u001b[39;00m isComplexType(t) \u001b[38;5;28;01melse\u001b[39;00m \u001b[38;5;124m'\u001b[39m\u001b[38;5;124mdd->d\u001b[39m\u001b[38;5;124m'\u001b[39m\n\u001b[0;32m    392\u001b[0m extobj \u001b[38;5;241m=\u001b[39m get_linalg_error_extobj(_raise_linalgerror_singular)\n\u001b[1;32m--> 393\u001b[0m r \u001b[38;5;241m=\u001b[39m \u001b[43mgufunc\u001b[49m\u001b[43m(\u001b[49m\u001b[43ma\u001b[49m\u001b[43m,\u001b[49m\u001b[43m \u001b[49m\u001b[43mb\u001b[49m\u001b[43m,\u001b[49m\u001b[43m \u001b[49m\u001b[43msignature\u001b[49m\u001b[38;5;241;43m=\u001b[39;49m\u001b[43msignature\u001b[49m\u001b[43m,\u001b[49m\u001b[43m \u001b[49m\u001b[43mextobj\u001b[49m\u001b[38;5;241;43m=\u001b[39;49m\u001b[43mextobj\u001b[49m\u001b[43m)\u001b[49m\n\u001b[0;32m    395\u001b[0m \u001b[38;5;28;01mreturn\u001b[39;00m wrap(r\u001b[38;5;241m.\u001b[39mastype(result_t, copy\u001b[38;5;241m=\u001b[39m\u001b[38;5;28;01mFalse\u001b[39;00m))\n",
      "File \u001b[1;32m~\\anaconda3\\lib\\site-packages\\numpy\\linalg\\linalg.py:88\u001b[0m, in \u001b[0;36m_raise_linalgerror_singular\u001b[1;34m(err, flag)\u001b[0m\n\u001b[0;32m     87\u001b[0m \u001b[38;5;28;01mdef\u001b[39;00m \u001b[38;5;21m_raise_linalgerror_singular\u001b[39m(err, flag):\n\u001b[1;32m---> 88\u001b[0m     \u001b[38;5;28;01mraise\u001b[39;00m LinAlgError(\u001b[38;5;124m\"\u001b[39m\u001b[38;5;124mSingular matrix\u001b[39m\u001b[38;5;124m\"\u001b[39m)\n",
      "\u001b[1;31mLinAlgError\u001b[0m: Singular matrix"
     ]
    }
   ],
   "source": [
    "# No Solution\n",
    "arr1 = np.array([[-3,4],[6,-8]])  \n",
    "arr2 = np.array([3,6])   \n",
    "ans = lg.solve(arr1, arr2)\n",
    "ans"
   ]
  },
  {
   "cell_type": "code",
   "execution_count": 12,
   "id": "5b6bb5db",
   "metadata": {},
   "outputs": [
    {
     "data": {
      "text/plain": [
       "array([-1.48029737e-16,  2.18181818e+00])"
      ]
     },
     "execution_count": 12,
     "metadata": {},
     "output_type": "execute_result"
    }
   ],
   "source": [
    "# Infinitely many Solution\n",
    "arr1 = np.array([[-12,11],[-36,33]])  \n",
    "arr2 = np.array([24,72]) \n",
    "ans = lg.solve(arr1, arr2)\n",
    "ans"
   ]
  },
  {
   "cell_type": "markdown",
   "id": "36180b39",
   "metadata": {},
   "source": [
    "Gaussian Elimination"
   ]
  },
  {
   "cell_type": "code",
   "execution_count": 13,
   "id": "ded62e4b",
   "metadata": {},
   "outputs": [
    {
     "name": "stdout",
     "output_type": "stream",
     "text": [
      "[1.0, 0.3333333333333333, -0.3333333333333333]\n",
      "[1.0, -1.5, -9.5]\n"
     ]
    },
    {
     "ename": "NameError",
     "evalue": "name 'new_List3' is not defined",
     "output_type": "error",
     "traceback": [
      "\u001b[1;31m---------------------------------------------------------------------------\u001b[0m",
      "\u001b[1;31mNameError\u001b[0m                                 Traceback (most recent call last)",
      "Cell \u001b[1;32mIn [13], line 10\u001b[0m\n\u001b[0;32m      8\u001b[0m \u001b[38;5;28mprint\u001b[39m(new_List2)\n\u001b[0;32m      9\u001b[0m \u001b[38;5;28;01mfor\u001b[39;00m i \u001b[38;5;129;01min\u001b[39;00m \u001b[38;5;28mrange\u001b[39m(\u001b[38;5;241m3\u001b[39m):\n\u001b[1;32m---> 10\u001b[0m     \u001b[43mnew_List3\u001b[49m[i] \u001b[38;5;241m=\u001b[39m new_List2[i] \u001b[38;5;241m-\u001b[39m new_List1[i] \u001b[38;5;66;03m# R2 <- R2 - R1\u001b[39;00m\n\u001b[0;32m     11\u001b[0m \u001b[38;5;28mprint\u001b[39m(new_List3)\n\u001b[0;32m     12\u001b[0m y \u001b[38;5;241m=\u001b[39m new_List3[\u001b[38;5;241m2\u001b[39m] \u001b[38;5;241m/\u001b[39m new_List3[\u001b[38;5;241m1\u001b[39m]\n",
      "\u001b[1;31mNameError\u001b[0m: name 'new_List3' is not defined"
     ]
    }
   ],
   "source": [
    "# Unique Solution 3 x + y = -1; 2 x - 3 y = -19\n",
    "\n",
    "arr1 = [3, 1, -1]\n",
    "arr2 = [2, -3, -19]\n",
    "new_List1 = [i/arr1[0] for i in arr1] # R1\n",
    "print(new_List1)\n",
    "new_List2 = [j/arr2[0] for j in arr2] # R2\n",
    "print(new_List2)\n",
    "for i in range(3):\n",
    "    new_List3[i] = new_List2[i] - new_List1[i] # R2 <- R2 - R1\n",
    "print(new_List3)\n",
    "y = new_List3[2] / new_List3[1]\n",
    "x = new_List1[2] - (y * new_List1[1])\n",
    "print(\"\")\n",
    "print(\"Solution is x = \", x,\" and y = \", y)"
   ]
  },
  {
   "cell_type": "code",
   "execution_count": 14,
   "id": "29b43dfa",
   "metadata": {},
   "outputs": [
    {
     "name": "stdout",
     "output_type": "stream",
     "text": [
      "[1.0, -1.3333333333333333, -1.0]\n",
      "[1.0, -1.3333333333333333, 1.0]\n"
     ]
    },
    {
     "ename": "NameError",
     "evalue": "name 'new_List3' is not defined",
     "output_type": "error",
     "traceback": [
      "\u001b[1;31m---------------------------------------------------------------------------\u001b[0m",
      "\u001b[1;31mNameError\u001b[0m                                 Traceback (most recent call last)",
      "Cell \u001b[1;32mIn [14], line 9\u001b[0m\n\u001b[0;32m      7\u001b[0m \u001b[38;5;28mprint\u001b[39m(new_List2)\n\u001b[0;32m      8\u001b[0m \u001b[38;5;28;01mfor\u001b[39;00m i \u001b[38;5;129;01min\u001b[39;00m \u001b[38;5;28mrange\u001b[39m(\u001b[38;5;241m3\u001b[39m):\n\u001b[1;32m----> 9\u001b[0m     \u001b[43mnew_List3\u001b[49m[i] \u001b[38;5;241m=\u001b[39m new_List2[i] \u001b[38;5;241m-\u001b[39m new_List1[i] \u001b[38;5;66;03m# R2 <- R2 - R1\u001b[39;00m\n\u001b[0;32m     10\u001b[0m \u001b[38;5;28mprint\u001b[39m(new_List3)\n\u001b[0;32m     11\u001b[0m y \u001b[38;5;241m=\u001b[39m new_List3[\u001b[38;5;241m2\u001b[39m] \u001b[38;5;241m/\u001b[39m new_List3[\u001b[38;5;241m1\u001b[39m]\n",
      "\u001b[1;31mNameError\u001b[0m: name 'new_List3' is not defined"
     ]
    }
   ],
   "source": [
    "# No Solution\n",
    "arr1 = [-3, 4, 3]\n",
    "arr2 = [6, -8, 6]\n",
    "new_List1 = [i/arr1[0] for i in arr1] # R1\n",
    "print(new_List1)\n",
    "new_List2 = [j/arr2[0] for j in arr2] # R2\n",
    "print(new_List2)\n",
    "for i in range(3):\n",
    "    new_List3[i] = new_List2[i] - new_List1[i] # R2 <- R2 - R1\n",
    "print(new_List3)\n",
    "y = new_List3[2] / new_List3[1]\n",
    "x = new_List1[2] - (y * new_List1[1])\n",
    "print(\"\")\n",
    "print(\"Solution is x = \", x,\" and y = \", y)"
   ]
  },
  {
   "cell_type": "code",
   "execution_count": 15,
   "id": "a6a77219",
   "metadata": {},
   "outputs": [
    {
     "name": "stdout",
     "output_type": "stream",
     "text": [
      "[1.0, -2.0, -3.0]\n",
      "[1.0, -2.0, -3.0]\n"
     ]
    },
    {
     "ename": "NameError",
     "evalue": "name 'new_List3' is not defined",
     "output_type": "error",
     "traceback": [
      "\u001b[1;31m---------------------------------------------------------------------------\u001b[0m",
      "\u001b[1;31mNameError\u001b[0m                                 Traceback (most recent call last)",
      "Cell \u001b[1;32mIn [15], line 10\u001b[0m\n\u001b[0;32m      8\u001b[0m \u001b[38;5;28mprint\u001b[39m(new_List2)\n\u001b[0;32m      9\u001b[0m \u001b[38;5;28;01mfor\u001b[39;00m i \u001b[38;5;129;01min\u001b[39;00m \u001b[38;5;28mrange\u001b[39m(\u001b[38;5;241m3\u001b[39m):\n\u001b[1;32m---> 10\u001b[0m     \u001b[43mnew_List3\u001b[49m[i] \u001b[38;5;241m=\u001b[39m new_List2[i] \u001b[38;5;241m-\u001b[39m new_List1[i] \u001b[38;5;66;03m# R2 <- R2 - R1\u001b[39;00m\n\u001b[0;32m     11\u001b[0m \u001b[38;5;28mprint\u001b[39m(new_List3)\n\u001b[0;32m     12\u001b[0m y \u001b[38;5;241m=\u001b[39m new_List3[\u001b[38;5;241m2\u001b[39m] \u001b[38;5;241m/\u001b[39m new_List3[\u001b[38;5;241m1\u001b[39m]\n",
      "\u001b[1;31mNameError\u001b[0m: name 'new_List3' is not defined"
     ]
    }
   ],
   "source": [
    "# infinitelY many Solution\n",
    "\n",
    "arr1 = [-10, 20, 30]\n",
    "arr2 = [50, -100, -150]\n",
    "new_List1 = [i/arr1[0] for i in arr1] # R1\n",
    "print(new_List1)\n",
    "new_List2 = [j/arr2[0] for j in arr2] # R2\n",
    "print(new_List2)\n",
    "for i in range(3):\n",
    "    new_List3[i] = new_List2[i] - new_List1[i] # R2 <- R2 - R1\n",
    "print(new_List3)\n",
    "y = new_List3[2] / new_List3[1]\n",
    "x = new_List1[2] - (y * new_List1[1])\n",
    "print(\"\")\n",
    "print(\"Solution is x = \", x,\" and y = \", y)"
   ]
  }
 ],
 "metadata": {
  "kernelspec": {
   "display_name": "Python 3 (ipykernel)",
   "language": "python",
   "name": "python3"
  },
  "language_info": {
   "codemirror_mode": {
    "name": "ipython",
    "version": 3
   },
   "file_extension": ".py",
   "mimetype": "text/x-python",
   "name": "python",
   "nbconvert_exporter": "python",
   "pygments_lexer": "ipython3",
   "version": "3.9.12"
  }
 },
 "nbformat": 4,
 "nbformat_minor": 5
}
