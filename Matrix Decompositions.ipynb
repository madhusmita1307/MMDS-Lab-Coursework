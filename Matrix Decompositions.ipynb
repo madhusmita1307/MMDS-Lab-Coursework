{
 "cells": [
  {
   "cell_type": "code",
   "execution_count": 1,
   "id": "86fca7cb",
   "metadata": {},
   "outputs": [
    {
     "name": "stdout",
     "output_type": "stream",
     "text": [
      "The matrix formed is :\n",
      "[[  6  15  55]\n",
      " [ 15  55 225]\n",
      " [ 55 225 979]]\n",
      "\n",
      "L is :\n",
      "[[ 2.44948974  0.          0.        ]\n",
      " [ 6.12372436  4.18330013  0.        ]\n",
      " [22.45365598 20.91650066  6.11010093]]\n",
      "\n",
      "LT is :\n",
      "[[ 2.44948974  6.12372436 22.45365598]\n",
      " [ 0.          4.18330013 20.91650066]\n",
      " [ 0.          0.          6.11010093]]\n"
     ]
    },
    {
     "data": {
      "text/plain": [
       "array([[  6.,  15.,  55.],\n",
       "       [ 15.,  55., 225.],\n",
       "       [ 55., 225., 979.]])"
      ]
     },
     "execution_count": 1,
     "metadata": {},
     "output_type": "execute_result"
    }
   ],
   "source": [
    "\n",
    "# Madhusmita Mukherjee 20BCE2783\n",
    "# cholesky decomposition\n",
    "\n",
    "import numpy as np\n",
    "from numpy import linalg as lg\n",
    "\n",
    "a = np.array([[6,15,55],[15,55,225],[55,225,979]])\n",
    "# b = np.array([[0,1,-2],[-1,0,3],[2,-3,0]]) #not symmetric\n",
    "# c = np.array([[2,3],[4,6],[7,9]]) #not a square matrix\n",
    "# d = np.array([[-3,2,0],[2,-3,0],[0,0,-5]]) #not a positive definite\n",
    "print(\"The matrix formed is :\")\n",
    "print(a)\n",
    "\n",
    "L = lg.cholesky(a)\n",
    "print(\"\\nL is :\")\n",
    "print(L)\n",
    "\n",
    "Lt = L.T.conj()\n",
    "print(\"\\nLT is :\")\n",
    "print(Lt)\n",
    "\n",
    "np.dot(L, Lt) # to verify that L * L.T = a"
   ]
  },
  {
   "cell_type": "code",
   "execution_count": 2,
   "id": "d6b17887",
   "metadata": {},
   "outputs": [
    {
     "name": "stdout",
     "output_type": "stream",
     "text": [
      "Matrix is: \n",
      " [[1 2 3]\n",
      " [4 5 6]\n",
      " [7 8 9]]\n",
      "\n",
      "Eigen-values are : \n",
      " [ 1.61168440e+01 -1.11684397e+00 -3.38433605e-16]\n",
      "\n",
      "Eigen-vectors Of Matrix A : \n",
      " [[-0.23197069 -0.78583024  0.40824829]\n",
      " [-0.52532209 -0.08675134 -0.81649658]\n",
      " [-0.8186735   0.61232756  0.40824829]]\n",
      "\n",
      "Matrix Formed By EigenVectors : \n",
      " [[-0.23197069 -0.78583024  0.40824829]\n",
      " [-0.52532209 -0.08675134 -0.81649658]\n",
      " [-0.8186735   0.61232756  0.40824829]]\n",
      "\n",
      "Inverse Of EigenVectors Matrix Is : \n",
      " [[-0.48295226 -0.59340999 -0.70386772]\n",
      " [-0.91788599 -0.24901003  0.41986593]\n",
      " [ 0.40824829 -0.81649658  0.40824829]]\n",
      "\n",
      "Diagonal Matrix Formed By EigenValues : \n",
      " [[ 1.61168440e+01  0.00000000e+00  0.00000000e+00]\n",
      " [ 0.00000000e+00 -1.11684397e+00  0.00000000e+00]\n",
      " [ 0.00000000e+00  0.00000000e+00 -3.38433605e-16]]\n",
      "\n",
      "Orignial Matrix is: \n",
      " [[1. 2. 3.]\n",
      " [4. 5. 6.]\n",
      " [7. 8. 9.]]\n"
     ]
    }
   ],
   "source": [
    "# Madhusmita Mukherjee 20BCE2783\n",
    "# eigen decomposition\n",
    "\n",
    "import numpy as np\n",
    "from numpy import linalg as lg\n",
    "\n",
    "A = np.array([[1, 2, 3], [4, 5, 6], [7, 8, 9]])\n",
    "print(\"Matrix is: \\n\",A)\n",
    "\n",
    "vals, vectors = lg.eig(A)\n",
    "print(\"\\nEigen-values are : \\n\",vals)\n",
    "print(\"\\nEigen-vectors Of Matrix A : \\n\",vectors)\n",
    "\n",
    "P = vectors\n",
    "print(\"\\nMatrix Formed By EigenVectors : \\n\",P)\n",
    "Pinv = lg.inv(P)\n",
    "print(\"\\nInverse Of EigenVectors Matrix Is : \\n\",Pinv)\n",
    "D = np.diag(vals)\n",
    "print(\"\\nDiagonal Matrix Formed By EigenValues : \\n\",D)\n",
    "\n",
    "B = P.dot(D).dot(Pinv)  # Reconstructing Original Matrix A    # B = P D P^-1\n",
    "print(\"\\nOrignial Matrix is: \\n\",B) # B is A"
   ]
  },
  {
   "cell_type": "code",
   "execution_count": 3,
   "id": "3d83c6e1",
   "metadata": {},
   "outputs": [
    {
     "name": "stdout",
     "output_type": "stream",
     "text": [
      "Matrix is: \n",
      " [[ 1  0 -1]\n",
      " [ 1  0  0]\n",
      " [-2  2  1]]\n",
      "\n",
      "Eigen-values are : \n",
      " [ 2. -1.  1.]\n",
      "\n",
      "Eigen-vectors Of Matrix : \n",
      " [[ 6.66666667e-01  4.08248290e-01  7.07106781e-01]\n",
      " [ 3.33333333e-01 -4.08248290e-01  7.07106781e-01]\n",
      " [-6.66666667e-01  8.16496581e-01  5.66950743e-17]]\n",
      "\n",
      "Matrix Formed By EigenVectors : \n",
      " [[ 6.66666667e-01  4.08248290e-01  7.07106781e-01]\n",
      " [ 3.33333333e-01 -4.08248290e-01  7.07106781e-01]\n",
      " [-6.66666667e-01  8.16496581e-01  5.66950743e-17]]\n",
      "\n",
      "Inverse Of EigenVectors Matrix Is : \n",
      " [[ 1.         -1.         -1.        ]\n",
      " [ 0.81649658 -0.81649658  0.40824829]\n",
      " [ 0.          1.41421356  0.70710678]]\n",
      "\n",
      "Diagonal Matrix Formed By EigenValues : \n",
      " [[ 2.  0.  0.]\n",
      " [ 0. -1.  0.]\n",
      " [ 0.  0.  1.]]\n",
      "\n",
      "Orignial Matrix is: \n",
      " [[ 1.00000000e+00 -2.42337678e-16 -1.00000000e+00]\n",
      " [ 1.00000000e+00  9.07292297e-17  4.53646149e-17]\n",
      " [-2.00000000e+00  2.00000000e+00  1.00000000e+00]]\n"
     ]
    }
   ],
   "source": [
    "C = np.array([[1,0,-1],[1,0,0],[-2,2,1]])\n",
    "print(\"Matrix is: \\n\",C)\n",
    "vals, vectors = lg.eig(C)\n",
    "print(\"\\nEigen-values are : \\n\",vals)\n",
    "print(\"\\nEigen-vectors Of Matrix : \\n\",vectors)\n",
    "P = vectors\n",
    "print(\"\\nMatrix Formed By EigenVectors : \\n\",P)\n",
    "Pinv = lg.inv(P)\n",
    "print(\"\\nInverse Of EigenVectors Matrix Is : \\n\",Pinv)\n",
    "D = np.diag(vals)\n",
    "print(\"\\nDiagonal Matrix Formed By EigenValues : \\n\",D)\n",
    "\n",
    "B = P.dot(D).dot(Pinv)\n",
    "print(\"\\nOrignial Matrix is: \\n\",B)"
   ]
  },
  {
   "cell_type": "code",
   "execution_count": 4,
   "id": "081c9611",
   "metadata": {},
   "outputs": [
    {
     "name": "stdout",
     "output_type": "stream",
     "text": [
      "A is \n",
      " [[ 1  0 -1]\n",
      " [ 1  0  0]\n",
      " [-2  2  1]]\n",
      "\n",
      "U is: \n",
      " [[-0.34332443  0.81649658 -0.46417849]\n",
      " [-0.2251758   0.40824829  0.88466332]\n",
      " [ 0.91182465  0.40824829  0.04369366]]\n",
      "\n",
      "s is: \n",
      " [3.25936733 1.         0.61361602]\n",
      "\n",
      "VT is: \n",
      " [[-0.73393063  0.55951021  0.38508979]\n",
      " [ 0.40824829  0.81649658 -0.40824829]\n",
      " [ 0.54284358  0.14241368  0.82767094]]\n",
      "\n",
      " original matrix is: \n",
      " [[ 1.00000000e+00 -1.00515228e-15 -1.00000000e+00]\n",
      " [ 1.00000000e+00 -2.87392891e-16 -3.09957227e-16]\n",
      " [-2.00000000e+00  2.00000000e+00  1.00000000e+00]]\n"
     ]
    }
   ],
   "source": [
    "# Madhusmita Mukherjee\n",
    "# Singular-Value Decomposition\n",
    "import numpy as np\n",
    "from numpy import linalg as lg\n",
    "\n",
    "A = np.array([[1,0,-1],[1,0,0],[-2,2,1]])\n",
    "print(\"A is \\n\", A)\n",
    "\n",
    "U, s, VT = lg.svd(A)   # Evaluating SVD  A = U Sigma V(transpose)\n",
    "print(\"\\nU is: \\n\",U)\n",
    "print(\"\\ns is: \\n\",s)\n",
    "print(\"\\nVT is: \\n\",VT)\n",
    "\n",
    "Sigma = np.zeros((A.shape[0], A.shape[1]))\n",
    "\n",
    "Sigma[:A.shape[1], :A.shape[1]] = np.diag(s)  # populate Sigma with n x n diagonal matrix\n",
    "\n",
    "B = U.dot(Sigma.dot(VT))  # Reconstructing matrix\n",
    "print(\"\\n original matrix is: \\n\",B)"
   ]
  },
  {
   "cell_type": "code",
   "execution_count": 5,
   "id": "e84e0582",
   "metadata": {},
   "outputs": [
    {
     "name": "stdout",
     "output_type": "stream",
     "text": [
      "A is \n",
      " [[ 1  0  1]\n",
      " [-2  1  0]]\n",
      "\n",
      "U is: \n",
      " [[ 0.4472136   0.89442719]\n",
      " [-0.89442719  0.4472136 ]]\n",
      "\n",
      "s is: \n",
      " [2.44948974 1.        ]\n",
      "\n",
      "VT is: \n",
      " [[ 9.12870929e-01 -3.65148372e-01  1.82574186e-01]\n",
      " [-3.90238130e-16  4.47213595e-01  8.94427191e-01]\n",
      " [-4.08248290e-01 -8.16496581e-01  4.08248290e-01]]\n"
     ]
    }
   ],
   "source": [
    "A = np.array([[1,0,1],[-2,1,0]])\n",
    "print(\"A is \\n\", A)\n",
    "U, s, VT = lg.svd(A)   # Evaluating SVD  A = U Sigma V(transpose)\n",
    "print(\"\\nU is: \\n\",U)\n",
    "print(\"\\ns is: \\n\",s)\n",
    "print(\"\\nVT is: \\n\",VT)"
   ]
  }
 ],
 "metadata": {
  "kernelspec": {
   "display_name": "Python 3 (ipykernel)",
   "language": "python",
   "name": "python3"
  },
  "language_info": {
   "codemirror_mode": {
    "name": "ipython",
    "version": 3
   },
   "file_extension": ".py",
   "mimetype": "text/x-python",
   "name": "python",
   "nbconvert_exporter": "python",
   "pygments_lexer": "ipython3",
   "version": "3.9.12"
  }
 },
 "nbformat": 4,
 "nbformat_minor": 5
}
