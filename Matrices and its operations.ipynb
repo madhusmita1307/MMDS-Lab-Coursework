{
 "cells": [
  {
   "cell_type": "code",
   "execution_count": 1,
   "id": "f70c438b",
   "metadata": {},
   "outputs": [],
   "source": [
    "import numpy as np\n",
    "from numpy import linalg as lg\n",
    "\n",
    "# Madhusmita Mukherjee 20BCE2783"
   ]
  },
  {
   "cell_type": "code",
   "execution_count": 2,
   "id": "7fbacfcd",
   "metadata": {},
   "outputs": [],
   "source": [
    "a = np.array([[3,2,-1],[6,8,-7],[4,4,0]])"
   ]
  },
  {
   "cell_type": "code",
   "execution_count": 3,
   "id": "56c35806",
   "metadata": {},
   "outputs": [],
   "source": [
    "b = np.array([[5,-3,7],[1,0,-6],[-4,8,9]])"
   ]
  },
  {
   "cell_type": "code",
   "execution_count": 4,
   "id": "c3ddbcd3",
   "metadata": {},
   "outputs": [
    {
     "data": {
      "text/plain": [
       "array([[  8,  -1,   6],\n",
       "       [  7,   8, -13],\n",
       "       [  0,  12,   9]])"
      ]
     },
     "execution_count": 4,
     "metadata": {},
     "output_type": "execute_result"
    }
   ],
   "source": [
    "a + b         # Matrix Addition"
   ]
  },
  {
   "cell_type": "code",
   "execution_count": 5,
   "id": "6049c76a",
   "metadata": {},
   "outputs": [],
   "source": [
    "a = np.array([[3,2,-1],[6,8,-7],[4,4,0]])"
   ]
  },
  {
   "cell_type": "code",
   "execution_count": 6,
   "id": "18cee815",
   "metadata": {},
   "outputs": [],
   "source": [
    "b = np.array([[5,-3,7],[1,0,-6],[-4,8,9]])"
   ]
  },
  {
   "cell_type": "code",
   "execution_count": 7,
   "id": "02f10576",
   "metadata": {},
   "outputs": [
    {
     "data": {
      "text/plain": [
       "array([[ 21, -17,   0],\n",
       "       [ 66, -74, -69],\n",
       "       [ 24, -12,   4]])"
      ]
     },
     "execution_count": 7,
     "metadata": {},
     "output_type": "execute_result"
    }
   ],
   "source": [
    "np.matmul(a,b)    # Matrix Multiplication"
   ]
  },
  {
   "cell_type": "code",
   "execution_count": 8,
   "id": "819dbdb8",
   "metadata": {},
   "outputs": [],
   "source": [
    "a = np.array([[3,2,-1],[6,8,-7],[4,4,0]])"
   ]
  },
  {
   "cell_type": "code",
   "execution_count": 9,
   "id": "6774d15b",
   "metadata": {},
   "outputs": [
    {
     "data": {
      "text/plain": [
       "36.0"
      ]
     },
     "execution_count": 9,
     "metadata": {},
     "output_type": "execute_result"
    }
   ],
   "source": [
    "c = lg.det(a)    # Determinant of matrix\n",
    "c"
   ]
  },
  {
   "cell_type": "code",
   "execution_count": 10,
   "id": "c95df966",
   "metadata": {},
   "outputs": [],
   "source": [
    "b = np.array([[5,-3,7],[1,0,-6],[-4,8,9]])"
   ]
  },
  {
   "cell_type": "code",
   "execution_count": 11,
   "id": "e170a62a",
   "metadata": {},
   "outputs": [
    {
     "data": {
      "text/plain": [
       "3"
      ]
     },
     "execution_count": 11,
     "metadata": {},
     "output_type": "execute_result"
    }
   ],
   "source": [
    "lg.matrix_rank(b)       # Rank of a matrix"
   ]
  },
  {
   "cell_type": "code",
   "execution_count": 12,
   "id": "8e283851",
   "metadata": {},
   "outputs": [],
   "source": [
    "v = np.array([[3,2],[1,4],[5,3]])"
   ]
  },
  {
   "cell_type": "code",
   "execution_count": 13,
   "id": "ef2b3754",
   "metadata": {},
   "outputs": [
    {
     "data": {
      "text/plain": [
       "2"
      ]
     },
     "execution_count": 13,
     "metadata": {},
     "output_type": "execute_result"
    }
   ],
   "source": [
    "lg.matrix_rank(v)"
   ]
  },
  {
   "cell_type": "code",
   "execution_count": 14,
   "id": "c2dbd675",
   "metadata": {},
   "outputs": [],
   "source": [
    "a = np.array([[3,2,-1],[6,8,-7],[4,4,0]])"
   ]
  },
  {
   "cell_type": "code",
   "execution_count": 15,
   "id": "b4412d4f",
   "metadata": {},
   "outputs": [
    {
     "data": {
      "text/plain": [
       "array([[ 0.77777778, -0.11111111, -0.16666667],\n",
       "       [-0.77777778,  0.11111111,  0.41666667],\n",
       "       [-0.22222222, -0.11111111,  0.33333333]])"
      ]
     },
     "execution_count": 15,
     "metadata": {},
     "output_type": "execute_result"
    }
   ],
   "source": [
    "lg.inv(a)     # Multiplicative Inverse of matrix"
   ]
  },
  {
   "cell_type": "code",
   "execution_count": 16,
   "id": "2ad42823",
   "metadata": {},
   "outputs": [
    {
     "data": {
      "text/plain": [
       "array([[ 1,  3,  2],\n",
       "       [-1,  2, -3],\n",
       "       [-2,  4, -6]])"
      ]
     },
     "execution_count": 16,
     "metadata": {},
     "output_type": "execute_result"
    }
   ],
   "source": [
    "k = np.array([[1,3,2],[-1,2,-3],[-2,4,-6]])\n",
    "k"
   ]
  },
  {
   "cell_type": "code",
   "execution_count": 17,
   "id": "e262f0a3",
   "metadata": {},
   "outputs": [
    {
     "data": {
      "text/plain": [
       "0.0"
      ]
     },
     "execution_count": 17,
     "metadata": {},
     "output_type": "execute_result"
    }
   ],
   "source": [
    "lg.det(k)"
   ]
  },
  {
   "cell_type": "markdown",
   "id": "138e29b4",
   "metadata": {},
   "source": [
    "Q3 and q4"
   ]
  },
  {
   "cell_type": "code",
   "execution_count": 18,
   "id": "0606bbe1",
   "metadata": {},
   "outputs": [
    {
     "data": {
      "text/plain": [
       "array([[ 1,  0, -1],\n",
       "       [ 1,  0,  0],\n",
       "       [-2,  2,  1]])"
      ]
     },
     "execution_count": 18,
     "metadata": {},
     "output_type": "execute_result"
    }
   ],
   "source": [
    "a = np.array([[1,0,-1], [1,0,0],[-2,2,1]])\n",
    "a"
   ]
  },
  {
   "cell_type": "code",
   "execution_count": 19,
   "id": "79a9dee1",
   "metadata": {},
   "outputs": [],
   "source": [
    "eigenValues, eigenVectors = lg.eig(a)"
   ]
  },
  {
   "cell_type": "code",
   "execution_count": 20,
   "id": "579284ca",
   "metadata": {},
   "outputs": [
    {
     "data": {
      "text/plain": [
       "array([ 2., -1.,  1.])"
      ]
     },
     "execution_count": 20,
     "metadata": {},
     "output_type": "execute_result"
    }
   ],
   "source": [
    "eigenValues"
   ]
  },
  {
   "cell_type": "code",
   "execution_count": 21,
   "id": "e8d4e2c3",
   "metadata": {},
   "outputs": [
    {
     "data": {
      "text/plain": [
       "array([[ 6.66666667e-01,  4.08248290e-01,  7.07106781e-01],\n",
       "       [ 3.33333333e-01, -4.08248290e-01,  7.07106781e-01],\n",
       "       [-6.66666667e-01,  8.16496581e-01,  5.66950743e-17]])"
      ]
     },
     "execution_count": 21,
     "metadata": {},
     "output_type": "execute_result"
    }
   ],
   "source": [
    "eigenVectors"
   ]
  },
  {
   "cell_type": "code",
   "execution_count": 22,
   "id": "43c68725",
   "metadata": {},
   "outputs": [
    {
     "data": {
      "text/plain": [
       "array([[ 2,  2, -2, -2],\n",
       "       [ 0,  0,  2,  2],\n",
       "       [ 4,  2, -8,  6],\n",
       "       [-6, -2, 12,  8]])"
      ]
     },
     "execution_count": 22,
     "metadata": {},
     "output_type": "execute_result"
    }
   ],
   "source": [
    "f = np.array([[2,2,-2,-2], [0,0,2,2],[4,2,-8,6],[-6,-2,12,8]])\n",
    "f"
   ]
  },
  {
   "cell_type": "code",
   "execution_count": 23,
   "id": "a64b8ce9",
   "metadata": {},
   "outputs": [],
   "source": [
    "eigenValues, eigenVectors = lg.eig(f)"
   ]
  },
  {
   "cell_type": "code",
   "execution_count": 24,
   "id": "2f6c1173",
   "metadata": {},
   "outputs": [
    {
     "data": {
      "text/plain": [
       "array([-11.47312601,  12.16116686,   2.        ,  -0.68804085])"
      ]
     },
     "execution_count": 24,
     "metadata": {},
     "output_type": "execute_result"
    }
   ],
   "source": [
    "eigenValues"
   ]
  },
  {
   "cell_type": "code",
   "execution_count": 25,
   "id": "4cb4e9d4",
   "metadata": {},
   "outputs": [
    {
     "data": {
      "text/plain": [
       "array([[-0.05923418, -0.19455653,  0.7570333 , -0.69093692],\n",
       "       [ 0.05923418,  0.19455653,  0.48666426,  0.69093692],\n",
       "       [-0.85373157,  0.25644843,  0.43259046, -0.21094208],\n",
       "       [ 0.51393095,  0.92656879,  0.05407381, -0.02675433]])"
      ]
     },
     "execution_count": 25,
     "metadata": {},
     "output_type": "execute_result"
    }
   ],
   "source": [
    "eigenVectors"
   ]
  },
  {
   "cell_type": "code",
   "execution_count": 26,
   "id": "7302615a",
   "metadata": {},
   "outputs": [
    {
     "data": {
      "text/plain": [
       "array([[3, 2],\n",
       "       [1, 4],\n",
       "       [5, 3]])"
      ]
     },
     "execution_count": 26,
     "metadata": {},
     "output_type": "execute_result"
    }
   ],
   "source": [
    "v = np.array([[3,2],[1,4],[5,3]])\n",
    "v"
   ]
  }
 ],
 "metadata": {
  "kernelspec": {
   "display_name": "Python 3 (ipykernel)",
   "language": "python",
   "name": "python3"
  },
  "language_info": {
   "codemirror_mode": {
    "name": "ipython",
    "version": 3
   },
   "file_extension": ".py",
   "mimetype": "text/x-python",
   "name": "python",
   "nbconvert_exporter": "python",
   "pygments_lexer": "ipython3",
   "version": "3.9.12"
  }
 },
 "nbformat": 4,
 "nbformat_minor": 5
}
